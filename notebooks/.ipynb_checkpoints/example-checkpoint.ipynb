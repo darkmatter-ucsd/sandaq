{
 "cells": [
  {
   "cell_type": "code",
   "execution_count": 1,
   "id": "e6c509e0-c369-4389-b13e-ca6d111a8efc",
   "metadata": {},
   "outputs": [],
   "source": [
    "import numpy as np\n",
    "import uproot\n",
    "import pandas as pd\n",
    "import matplotlib.pyplot as plt\n",
    "import numba\n",
    "import awkward as ak\n",
    "import json\n",
    "import configparser"
   ]
  },
  {
   "cell_type": "code",
   "execution_count": 2,
   "id": "d5c14fa5-8118-4052-a2ae-e8ef10377555",
   "metadata": {},
   "outputs": [],
   "source": [
    "import sys\n",
    "sys.path.append('/home/jyangqi/sandaq/')\n",
    "import sandawpy"
   ]
  },
  {
   "cell_type": "code",
   "execution_count": 9,
   "id": "4580bded-144a-4bb9-9d1e-6fcb03628bbc",
   "metadata": {},
   "outputs": [],
   "source": [
    "config_file = '../sandaw/config/config.ini'\n",
    "pk_processed = '../sandaw/example_data/processed/peaks_1234.bin'"
   ]
  },
  {
   "cell_type": "code",
   "execution_count": 10,
   "id": "e3cbf9f5-8340-48ba-9b94-ea37f692e56e",
   "metadata": {},
   "outputs": [],
   "source": [
    "loader = sandawpy.Loader(config_file)\n",
    "peaks = loader.GetData(pk_processed, 'peaks')\n",
    "peaks_few_columns = loader.GetData(pk_processed, 'peaks', cols = ['start_time', 'end_time', 'area'])"
   ]
  },
  {
   "cell_type": "code",
   "execution_count": 18,
   "id": "a2e0612b-5457-4128-a472-e2e5ee37af6d",
   "metadata": {},
   "outputs": [
    {
     "data": {
      "text/plain": [
       "[<matplotlib.lines.Line2D at 0x7fc612164dc0>]"
      ]
     },
     "execution_count": 18,
     "metadata": {},
     "output_type": "execute_result"
    },
    {
     "data": {
      "image/png": "[encoded data removed]",
      "text/plain": [
       "<Figure size 432x288 with 1 Axes>"
      ]
     },
     "metadata": {
      "needs_background": "light"
     },
     "output_type": "display_data"
    }
   ],
   "source": [
    "plt.plot(peaks['data'][0])"
   ]
  },
  {
   "cell_type": "code",
   "execution_count": null,
   "id": "5f7d79d6-accc-4ad6-9c44-7ade371938e6",
   "metadata": {},
   "outputs": [],
   "source": []
  }
 ],
 "metadata": {
  "kernelspec": {
   "display_name": "Python 3 (ipykernel)",
   "language": "python",
   "name": "python3"
  },
  "language_info": {
   "codemirror_mode": {
    "name": "ipython",
    "version": 3
   },
   "file_extension": ".py",
   "mimetype": "text/x-python",
   "name": "python",
   "nbconvert_exporter": "python",
   "pygments_lexer": "ipython3",
   "version": "3.9.12"
  }
 },
 "nbformat": 4,
 "nbformat_minor": 5
}
